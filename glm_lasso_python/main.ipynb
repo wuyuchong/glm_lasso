{
 "cells": [
  {
   "cell_type": "code",
   "execution_count": 1,
   "metadata": {},
   "outputs": [
    {
     "name": "stdout",
     "output_type": "stream",
     "text": [
      "df=  1\n",
      "[ 0.075321 -0.251603]\n",
      "df=  1\n",
      "[ 0.075326 -0.251791]\n",
      "df=  2\n",
      "[ 0.075496  0.040313 -0.288909]\n",
      "df=  2\n",
      "[ 0.078236  0.280258 -0.516511]\n",
      "df=  3\n",
      "[ 0.076892  0.306744  0.033263 -0.556923]\n",
      "df=  3\n",
      "[ 0.067784  0.469455  0.232572 -0.809023]\n",
      "df=  3\n",
      "[ 0.067732  0.470298  0.233584 -0.810345]\n",
      "df=  4\n",
      "[ 0.065633  0.493752  0.270934 -0.028728 -0.835907]\n",
      "df=  5\n",
      "[ 0.061759  0.535414 -0.000051  0.336110 -0.078551 -0.881836]\n",
      "df=  5\n",
      "[ 0.060821  0.564977 -0.035339  0.376256 -0.097012 -0.900796]\n",
      "df=  6\n",
      "[ 0.059618  0.608723 -0.086360  0.435804 -0.124153 -0.930382  0.010254]\n",
      "df=  6\n",
      "[ 0.056614  0.711783 -0.203230  0.574115 -0.186459 -1.003238  0.033604]\n",
      "df=  8\n",
      "[ 0.054535  0.754401 -0.249141  0.630198 -0.210102 -1.036429  0.007450\n",
      " -0.010772  0.042623]\n",
      "df=  9\n",
      "[ 0.053033  0.784512 -0.281164  0.669610 -0.226570 -1.060321  0.012663\n",
      " -0.018696  0.048895 -0.000001]\n",
      "df=  9\n",
      "[ 0.052424  0.802156 -0.299933  0.693233 -0.236743 -1.074727  0.015940\n",
      " -0.023418  0.052918 -0.003839]\n",
      "df=  11\n",
      "[ 0.052056  0.842048 -0.342781  0.747612 -0.260357 -1.107496  0.005041\n",
      "  0.023595 -0.033379  0.009604  0.061915 -0.012324]\n",
      "[ 0.052056  0.842048 -0.342781  0.747612 -0.260357 -1.107496  0.000000\n",
      "  0.000000  0.000000  0.000000]\n",
      "[ 0.052056  0.842048 -0.342781  0.747612 -0.260357 -1.107496  0.005041\n",
      "  0.023595 -0.033379  0.009604  0.061915 -0.012324]\n",
      "92.49353997470396\n"
     ]
    }
   ],
   "source": [
    "import numpy as np\n",
    "from src.sim_data import sim_data\n",
    "from src.logit_lasso import logit_lasso\n",
    "\n",
    "\n",
    "np.set_printoptions(formatter={'float': '{: 0.6f}'.format})\n",
    "family = \"logit\"\n",
    "rho = 0.5\n",
    "n, p, s = 400, 1000, 6\n",
    "pmax = 10\n",
    "beta_0 = [0.05, 3, -2.5, 3.5, -1.5, -3]\n",
    "beta_1 = np.zeros(p - s)\n",
    "beta = np.append(beta_0, beta_1)\n",
    "x, y = sim_data(beta, rho, n, family)\n",
    "\n",
    "b, is_active, lamb, df = logit_lasso(x, y, pmax=10)\n",
    "print(b[:10])\n",
    "print(b[is_active])\n",
    "print(lamb)"
   ]
  },
  {
   "cell_type": "code",
   "execution_count": 2,
   "metadata": {},
   "outputs": [],
   "source": [
    "from scipy.stats import norm\n",
    "from scipy import linalg as sl\n",
    "import numpy as np\n",
    "from src.sigma_mat import sigma_ma\n",
    "from src.resp_family import resp_family\n",
    "from scipy.stats import norm, bernoulli, poisson\n",
    "from scipy import linalg"
   ]
  },
  {
   "cell_type": "code",
   "execution_count": 4,
   "metadata": {},
   "outputs": [
    {
     "data": {
      "text/plain": [
       "(1000,)"
      ]
     },
     "execution_count": 4,
     "metadata": {},
     "output_type": "execute_result"
    }
   ],
   "source": [
    "np.shape(b)"
   ]
  },
  {
   "cell_type": "code",
   "execution_count": 3,
   "metadata": {},
   "outputs": [
    {
     "name": "stdout",
     "output_type": "stream",
     "text": [
      "2\n",
      "1\n"
     ]
    }
   ],
   "source": [
    "def test(x, y):\n",
    "    x = x + 1\n",
    "    y = y + 1\n",
    "    return x\n",
    "\n",
    "x = 1\n",
    "y = 1\n",
    "x = test(x, y)\n",
    "print(x)\n",
    "print(y)"
   ]
  },
  {
   "cell_type": "code",
   "execution_count": 4,
   "metadata": {},
   "outputs": [
    {
     "name": "stdout",
     "output_type": "stream",
     "text": [
      "['a', 'b']\n",
      "['a', 'b']\n"
     ]
    }
   ],
   "source": [
    "def test(x, y):\n",
    "    x.append('b')\n",
    "    y.append('b')\n",
    "    return x\n",
    "\n",
    "x = ['a']\n",
    "y = ['a']\n",
    "x = test(x, y)\n",
    "print(x)\n",
    "print(y)"
   ]
  }
 ],
 "metadata": {
  "kernelspec": {
   "display_name": "Python 3",
   "language": "python",
   "name": "python3"
  },
  "language_info": {
   "codemirror_mode": {
    "name": "ipython",
    "version": 3
   },
   "file_extension": ".py",
   "mimetype": "text/x-python",
   "name": "python",
   "nbconvert_exporter": "python",
   "pygments_lexer": "ipython3",
   "version": "3.7.4"
  }
 },
 "nbformat": 4,
 "nbformat_minor": 4
}
