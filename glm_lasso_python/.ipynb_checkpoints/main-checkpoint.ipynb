{
 "cells": [
  {
   "cell_type": "code",
   "execution_count": 1,
   "metadata": {},
   "outputs": [
    {
     "name": "stdout",
     "output_type": "stream",
     "text": [
      "df=  2\n",
      "[ 0.042531  0.000017 -0.109740]\n",
      "df=  2\n",
      "[ 0.041696  0.141355 -0.246664]\n",
      "df=  3\n",
      "[ 0.043434  0.169804  0.032250 -0.288885]\n",
      "df=  3\n",
      "[ 0.065341  0.584075  0.473950 -0.897093]\n",
      "df=  3\n",
      "[ 0.065473  0.586732  0.476675 -0.900957]\n",
      "df=  4\n",
      "[ 0.067291  0.610352  0.510752 -0.028950 -0.923649]\n",
      "df=  5\n",
      "[ 0.075260  0.706254  0.645421 -0.141029 -1.016790 -0.000098]\n",
      "df=  5\n",
      "[ 0.077283  0.730979  0.679430 -0.167382 -1.040933 -0.015298]\n",
      "df=  7\n",
      "[ 0.079077  0.756860 -0.008764  0.714841 -0.192345 -1.064256 -0.028691\n",
      "  0.010336]\n",
      "df=  7\n",
      "[ 0.079306  0.762308 -0.014957  0.721907 -0.196002 -1.068028 -0.030084\n",
      "  0.011533]\n",
      "df=  8\n",
      "[ 0.080233  0.799105 -0.056969  0.770908 -0.221037 -1.094844 -0.040069\n",
      "  0.020700 -0.011751]\n",
      "df=  8\n",
      "[ 0.080736  0.817268 -0.077486  0.795053 -0.233307 -1.108282 -0.044898\n",
      "  0.025105 -0.017427]\n",
      "df=  10\n",
      "[ 0.081647  0.852929 -0.117615  0.843413 -0.258233 -1.135522  0.007889\n",
      " -0.053659  0.001024  0.034120 -0.029109]\n",
      "[ 0.081647  0.852929 -0.117615  0.843413 -0.258233 -1.135522  0.000000\n",
      "  0.000000  0.000000  0.000000]\n",
      "[ 0.081647  0.852929 -0.117615  0.843413 -0.258233 -1.135522  0.007889\n",
      " -0.053659  0.001024  0.034120 -0.029109]\n",
      "92.82624237554265\n"
     ]
    }
   ],
   "source": [
    "import numpy as np\n",
    "from src.sim_data import sim_data\n",
    "from src.logit_lasso import logit_lasso\n",
    "\n",
    "\n",
    "np.set_printoptions(formatter={'float': '{: 0.6f}'.format})\n",
    "family = \"logit\"\n",
    "rho = 0.5\n",
    "n, p, s = 400, 1000, 6\n",
    "pmax = 10\n",
    "beta_0 = [0.05, 3, -2.5, 3.5, -1.5, -3]\n",
    "beta_1 = np.zeros(p - s)\n",
    "beta = np.append(beta_0, beta_1)\n",
    "x, y = sim_data(beta, rho, n, family)\n",
    "\n",
    "b, is_active, lamb, df = logit_lasso(x, y, pmax=10)\n",
    "print(b[:10])\n",
    "print(b[is_active])\n",
    "print(lamb)"
   ]
  },
  {
   "cell_type": "code",
   "execution_count": 2,
   "metadata": {},
   "outputs": [],
   "source": [
    "import glmnet_python\n",
    "from glmnet import glmnet"
   ]
  },
  {
   "cell_type": "code",
   "execution_count": null,
   "metadata": {},
   "outputs": [],
   "source": []
  },
  {
   "cell_type": "code",
   "execution_count": 2,
   "metadata": {},
   "outputs": [],
   "source": [
    "from scipy.stats import norm\n",
    "from scipy import linalg as sl\n",
    "import numpy as np\n",
    "from src.sigma_mat import sigma_ma\n",
    "from src.resp_family import resp_family\n",
    "from scipy.stats import norm, bernoulli, poisson\n",
    "from scipy import linalg"
   ]
  },
  {
   "cell_type": "code",
   "execution_count": 4,
   "metadata": {},
   "outputs": [
    {
     "data": {
      "text/plain": [
       "(1000,)"
      ]
     },
     "execution_count": 4,
     "metadata": {},
     "output_type": "execute_result"
    }
   ],
   "source": [
    "np.shape(b)"
   ]
  },
  {
   "cell_type": "code",
   "execution_count": 3,
   "metadata": {},
   "outputs": [
    {
     "name": "stdout",
     "output_type": "stream",
     "text": [
      "2\n",
      "1\n"
     ]
    }
   ],
   "source": [
    "def test(x, y):\n",
    "    x = x + 1\n",
    "    y = y + 1\n",
    "    return x\n",
    "\n",
    "x = 1\n",
    "y = 1\n",
    "x = test(x, y)\n",
    "print(x)\n",
    "print(y)"
   ]
  },
  {
   "cell_type": "code",
   "execution_count": 4,
   "metadata": {},
   "outputs": [
    {
     "name": "stdout",
     "output_type": "stream",
     "text": [
      "['a', 'b']\n",
      "['a', 'b']\n"
     ]
    }
   ],
   "source": [
    "def test(x, y):\n",
    "    x.append('b')\n",
    "    y.append('b')\n",
    "    return x\n",
    "\n",
    "x = ['a']\n",
    "y = ['a']\n",
    "x = test(x, y)\n",
    "print(x)\n",
    "print(y)"
   ]
  }
 ],
 "metadata": {
  "kernelspec": {
   "display_name": "Python 3",
   "language": "python",
   "name": "python3"
  },
  "language_info": {
   "codemirror_mode": {
    "name": "ipython",
    "version": 3
   },
   "file_extension": ".py",
   "mimetype": "text/x-python",
   "name": "python",
   "nbconvert_exporter": "python",
   "pygments_lexer": "ipython3",
   "version": "3.8.3"
  }
 },
 "nbformat": 4,
 "nbformat_minor": 4
}
