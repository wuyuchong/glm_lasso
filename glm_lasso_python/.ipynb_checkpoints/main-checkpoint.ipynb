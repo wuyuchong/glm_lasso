{
 "cells": [
  {
   "cell_type": "code",
   "execution_count": 1,
   "metadata": {},
   "outputs": [
    {
     "name": "stdout",
     "output_type": "stream",
     "text": [
      "df=  1\n",
      "[ 0.037944 -0.401511]\n",
      "df=  1\n",
      "[ 0.037936 -0.401815]\n",
      "df=  2\n",
      "[ 0.033076  0.037575 -0.438932]\n",
      "df=  3\n",
      "[ 0.010696  0.209560  0.000721 -0.614018]\n",
      "df=  3\n",
      "[-0.038485  0.452013  0.318830 -1.027070]\n",
      "df=  3\n",
      "[-0.038974  0.454482  0.321978 -1.031440]\n",
      "df=  5\n",
      "[-0.041779  0.484386 -0.022537  0.355433 -1.066954 -0.012998]\n",
      "df=  5\n",
      "[-0.041980  0.488671 -0.027716  0.359873 -1.070555 -0.014145]\n",
      "df=  7\n",
      "[-0.041865  0.531476 -0.079794  0.415605 -0.025788 -1.096575  0.000115\n",
      " -0.024291]\n",
      "df=  7\n",
      "[-0.041675  0.546334 -0.097618  0.435185 -0.034789 -1.106179  0.003813\n",
      " -0.027697]\n",
      "df=  10\n",
      "[-0.041155  0.587548 -0.143975  0.487928 -0.059821 -1.133132  0.013583\n",
      "  0.001460 -0.012186  0.003587 -0.037133]\n",
      "[-0.041155  0.587548 -0.143975  0.487928 -0.059821 -1.133132  0.000000\n",
      "  0.000000  0.000000  0.000000]\n",
      "[-0.041155  0.587548 -0.143975  0.487928 -0.059821 -1.133132  0.013583\n",
      "  0.001460 -0.012186  0.003587 -0.037133]\n",
      "102.65121183730378\n"
     ]
    }
   ],
   "source": [
    "import numpy as np\n",
    "from src.sim_data import sim_data\n",
    "from src.logit_lasso import logit_lasso\n",
    "\n",
    "\n",
    "np.set_printoptions(formatter={'float': '{: 0.6f}'.format})\n",
    "family = \"logit\"\n",
    "rho = 0.5\n",
    "n, p, s = 400, 1000, 6\n",
    "pmax = 10\n",
    "beta_0 = [0.05, 3, -2.5, 3.5, -1.5, -3]\n",
    "beta_1 = np.zeros(p - s)\n",
    "beta = np.append(beta_0, beta_1)\n",
    "x, y = sim_data(beta, rho, n, family)\n",
    "\n",
    "b, is_active, lamb, df = logit_lasso(x, y, pmax=10)\n",
    "print(b[:10])\n",
    "print(b[is_active])\n",
    "print(lamb)"
   ]
  },
  {
   "cell_type": "code",
   "execution_count": 2,
   "metadata": {},
   "outputs": [],
   "source": [
    "from scipy.stats import norm\n",
    "from scipy import linalg as sl\n",
    "import numpy as np\n",
    "from src.sigma_mat import sigma_ma\n",
    "from src.resp_family import resp_family\n",
    "from scipy.stats import norm, bernoulli, poisson\n",
    "from scipy import linalg"
   ]
  },
  {
   "cell_type": "code",
   "execution_count": null,
   "metadata": {},
   "outputs": [],
   "source": []
  },
  {
   "cell_type": "code",
   "execution_count": 3,
   "metadata": {},
   "outputs": [
    {
     "name": "stdout",
     "output_type": "stream",
     "text": [
      "2\n",
      "1\n"
     ]
    }
   ],
   "source": [
    "def test(x, y):\n",
    "    x = x + 1\n",
    "    y = y + 1\n",
    "    return x\n",
    "\n",
    "x = 1\n",
    "y = 1\n",
    "x = test(x, y)\n",
    "print(x)\n",
    "print(y)"
   ]
  },
  {
   "cell_type": "code",
   "execution_count": 4,
   "metadata": {},
   "outputs": [
    {
     "name": "stdout",
     "output_type": "stream",
     "text": [
      "['a', 'b']\n",
      "['a', 'b']\n"
     ]
    }
   ],
   "source": [
    "def test(x, y):\n",
    "    x.append('b')\n",
    "    y.append('b')\n",
    "    return x\n",
    "\n",
    "x = ['a']\n",
    "y = ['a']\n",
    "x = test(x, y)\n",
    "print(x)\n",
    "print(y)"
   ]
  }
 ],
 "metadata": {
  "kernelspec": {
   "display_name": "Python 3",
   "language": "python",
   "name": "python3"
  },
  "language_info": {
   "codemirror_mode": {
    "name": "ipython",
    "version": 3
   },
   "file_extension": ".py",
   "mimetype": "text/x-python",
   "name": "python",
   "nbconvert_exporter": "python",
   "pygments_lexer": "ipython3",
   "version": "3.7.4"
  }
 },
 "nbformat": 4,
 "nbformat_minor": 4
}
